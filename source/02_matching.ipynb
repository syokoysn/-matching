{
 "cells": [
  {
   "cell_type": "code",
   "execution_count": 1,
   "metadata": {},
   "outputs": [],
   "source": [
    "import networkx as nx\n",
    "import matplotlib.pyplot as plt \n",
    "%matplotlib inline"
   ]
  },
  {
   "cell_type": "code",
   "execution_count": 2,
   "metadata": {},
   "outputs": [],
   "source": [
    "x1 = [6,2,3,4,5,1]\n",
    "x2 = [5,4,3,2,1,6]\n",
    "x3 = [5,1,2,3,4,6]\n",
    "x4 = [3,1,2,3,4,6]\n",
    "x5 = [6,2,4,3,5,1]\n",
    "x6 = [6,4,5,3,1,2]\n",
    "people_list = [x1,x2,x3,x4,x5,x6]\n"
   ]
  },
  {
   "cell_type": "code",
   "execution_count": 3,
   "metadata": {},
   "outputs": [],
   "source": [
    "class TTC() :\n",
    "    def __init__(self,l):\n",
    "        self.people_dic = { i+1 : People(j) for i,j in  enumerate(l)}\n",
    "        self.finish ={ i+1 : None for i,j in  enumerate(l)}\n",
    "        self.G = nx.MultiDiGraph()\n",
    "        \n",
    "    def info(self):\n",
    "        for j, i in enumerate(self.people_dic) :\n",
    "            print(\"people \"+str(j+1))\n",
    "            print(\"  out\",self.people_dic[i].like[self.people_dic[i].one])\n",
    "            print(\"  in\",self.people_dic[i].inlike)\n",
    "            print(\"  result\",self.people_dic[i].result)\n",
    "            print( )\n",
    "            \n",
    "    def one_turn(self,num = 1):\n",
    "        \n",
    "        #候補点を探す\n",
    "        for i in self.people_dic :    \n",
    "            if self.finish[i] : # still finish\n",
    "                if num ==1 :    \n",
    "                    print(\"fin\",i)\n",
    "                continue\n",
    "                \n",
    "            elif self.finish[self.people_dic[i].like[self.people_dic[i].one] ]  :#欲しいものが終わっているか\n",
    "                if num == 1 :\n",
    "                    \n",
    "                    print(i,\"欲しいものない\")\n",
    "                while True :\n",
    "                    self.people_dic[i].add_num()\n",
    "                    if not(self.finish[self.people_dic[i].like[self.people_dic[i].one] ]) :#欲しいものがあるまで\n",
    "                        if num == 1 :\n",
    "                            print(i,\"欲しいものあった\",self.people_dic[i].like[self.people_dic[i].one])\n",
    "                        break\n",
    "            \n",
    "            self.people_dic[i].inlike_reset()\n",
    "            if num == 1 :\n",
    "                print(self.people_dic[i].one)#何番目か\n",
    "                print(self.people_dic[i].like[self.people_dic[i].one])#その番号\n",
    "                \n",
    "            self.people_dic[self.people_dic[i].like[self.people_dic[i].one]].trans_inlike(i)       \n",
    "            \n",
    "        #閉路探索\n",
    "        self.closed(num)\n",
    "        #グラフ作成\n",
    "        G = nx.MultiDiGraph()\n",
    "        pos = nx.spring_layout(G)\n",
    "        for i in self.people_dic :\n",
    "            if self.people_dic[i].result != None :#終わってないやつ\n",
    "                G.add_edge(i,self.people_dic[i].like[self.people_dic[i].one])\n",
    "            else:\n",
    "                pass\n",
    "                #G.add_edge(i,self.people_dic[i].like[self.people_dic[i].one])\n",
    "            \n",
    "        #終了したやつの確認\n",
    "        for i in self.people_dic :\n",
    "            if self.people_dic[i].result  != None :\n",
    "                self.finish[i] =True\n",
    "                \n",
    "        \n",
    "        if num == 1 :\n",
    "            nx.draw(G,node_color=\"g\",with_labels=True)\n",
    "            plt.show()\n",
    "        \n",
    "            \n",
    "        \n",
    "    def closed(self,num = 1):\n",
    "        out = []\n",
    "        for i in self.people_dic :\n",
    "            p = self.people_dic[i]\n",
    "            \n",
    "            if p.result :\n",
    "                pass\n",
    "            elif len(p.inlike) == 0 : #　stopする点\n",
    "                out.append(i)\n",
    "            else :\n",
    "                flag = i\n",
    "                pas = [i]\n",
    "                flag2 = p.like[p.one]\n",
    "                if num == 1 :\n",
    "                    print(i ,\"flag\",flag,\"flag2\",flag2)\n",
    "                while True :\n",
    "                    if flag == flag2 :\n",
    "                        pas.append(flag2) \n",
    "                        break\n",
    "                    elif flag2 in pas :\n",
    "                        break\n",
    "                    else :\n",
    "                        pas.append(flag2) \n",
    "                        flag2 = self.people_dic[flag2].like[self.people_dic[flag2].one]\n",
    "                        if flag2 in out :\n",
    "                            break\n",
    "                if pas[0] == pas[-1] :\n",
    "                    for j in range(len(pas)-1) :\n",
    "                        self.people_dic[pas[j]].decision(pas[j+1])\n",
    "                \n",
    "                \n",
    "        \n",
    "     \n",
    "    def alltry(self):\n",
    "        num = 0\n",
    "        while True :\n",
    "            if all(self.finish.values()):\n",
    "                break \n",
    "            \n",
    "            self.one_turn(num)\n",
    "        for i in self.people_dic :\n",
    "            if self.people_dic[i].result != None :#終わってないやつ\n",
    "                #G.add_edge(i,self.people_dic[i].like[self.people_dic[i].one])\n",
    "                pass \n",
    "            else:\n",
    "                pass\n",
    "                #G.add_edge(i,self.people_dic[i].like[self.people_dic[i].one])\n",
    "        #nx.draw(G,node_color=\"g\",with_labels=True)\n",
    "        #self.G = G\n",
    "        \n",
    "            \n",
    "    def result(self):\n",
    "        for i in self.people_dic :\n",
    "            p = self.people_dic[i]\n",
    "            print(\"People\"+str(i)+\"->\",p.result)\n",
    "        \n",
    "class People() :\n",
    "    \n",
    "    def __init__(self, l):\n",
    "        self.like = l\n",
    "        self.inlike = []\n",
    "        self.one = 0\n",
    "        self.result = None\n",
    "        \n",
    "    def add_num(self):\n",
    "        self.one += 1 \n",
    "        \n",
    "    def trans_inlike(self,n):\n",
    "        self.inlike.append(n)\n",
    "    def decision(self,n):\n",
    "        self.result = n\n",
    "    def inlike_reset(self):\n",
    "        self.inlike = []"
   ]
  },
  {
   "cell_type": "code",
   "execution_count": 4,
   "metadata": {},
   "outputs": [],
   "source": [
    "test = TTC(people_list)"
   ]
  },
  {
   "cell_type": "code",
   "execution_count": 5,
   "metadata": {},
   "outputs": [],
   "source": [
    "test.alltry()"
   ]
  },
  {
   "cell_type": "code",
   "execution_count": 6,
   "metadata": {},
   "outputs": [
    {
     "name": "stdout",
     "output_type": "stream",
     "text": [
      "People1-> 3\n",
      "People2-> 5\n",
      "People3-> 1\n",
      "People4-> 4\n",
      "People5-> 2\n",
      "People6-> 6\n"
     ]
    }
   ],
   "source": [
    "test.result()"
   ]
  },
  {
   "cell_type": "code",
   "execution_count": 7,
   "metadata": {},
   "outputs": [],
   "source": [
    "x1 = [3,2,6,4,5,1]\n",
    "x2 = [5,4,3,2,1,6]\n",
    "x3 = [5,1,2,3,4,6]\n",
    "x4 = [3,1,2,3,4,6]\n",
    "x5 = [6,2,4,3,5,1]\n",
    "x6 = [5,4,6,3,1,2]\n",
    "people_list = [x1,x2,x3,x4,x5,x6]"
   ]
  },
  {
   "cell_type": "code",
   "execution_count": 8,
   "metadata": {},
   "outputs": [],
   "source": [
    "test2 = TTC(people_list)"
   ]
  },
  {
   "cell_type": "code",
   "execution_count": 9,
   "metadata": {},
   "outputs": [],
   "source": [
    "test2.alltry()"
   ]
  },
  {
   "cell_type": "code",
   "execution_count": 10,
   "metadata": {},
   "outputs": [
    {
     "name": "stdout",
     "output_type": "stream",
     "text": [
      "People1-> 3\n",
      "People2-> 5\n",
      "People3-> 1\n",
      "People4-> 4\n",
      "People5-> 2\n",
      "People6-> 6\n"
     ]
    }
   ],
   "source": [
    "test.result()"
   ]
  },
  {
   "cell_type": "code",
   "execution_count": null,
   "metadata": {},
   "outputs": [],
   "source": []
  },
  {
   "cell_type": "code",
   "execution_count": null,
   "metadata": {},
   "outputs": [],
   "source": []
  }
 ],
 "metadata": {
  "kernelspec": {
   "display_name": "Python 3",
   "language": "python",
   "name": "python3"
  },
  "language_info": {
   "codemirror_mode": {
    "name": "ipython",
    "version": 3
   },
   "file_extension": ".py",
   "mimetype": "text/x-python",
   "name": "python",
   "nbconvert_exporter": "python",
   "pygments_lexer": "ipython3",
   "version": "3.6.8"
  }
 },
 "nbformat": 4,
 "nbformat_minor": 1
}
