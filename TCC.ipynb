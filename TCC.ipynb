{
 "cells": [
  {
   "cell_type": "code",
   "execution_count": 1,
   "metadata": {},
   "outputs": [],
   "source": [
    "import networkx as nx\n"
   ]
  },
  {
   "cell_type": "code",
   "execution_count": 2,
   "metadata": {},
   "outputs": [],
   "source": [
    "x1 = [6,2,3,4,5,1]\n",
    "x2 = [5,4,3,2,1,6]\n",
    "x3 = [5,1,2,3,4,6]\n",
    "x4 = [3,1,2,3,4,6]\n",
    "x5 = [6,2,4,3,5,1]\n",
    "x6 = [6,4,5,3,1,2]\n",
    "people_list = [x1,x2,x3,x4,x5,x6]\n"
   ]
  },
  {
   "cell_type": "code",
   "execution_count": 25,
   "metadata": {},
   "outputs": [],
   "source": [
    "class TTC() :\n",
    "    def __init__(self,l):\n",
    "        self.people_dic = { i+1 : People(j) for i,j in  enumerate(l)}\n",
    "        self.finish ={ i+1 : None for i,j in  enumerate(l)}\n",
    "        \n",
    "    def info(self):\n",
    "        for j, i in enumerate(self.people_dic) :\n",
    "            print(\"people \"+str(j+1))\n",
    "            print(\"  out\",self.people_dic[i].like[self.people_dic[i].one])\n",
    "            print(\"  in\",self.people_dic[i].inlike)\n",
    "            print(\"  result\",self.people_dic[i].result)\n",
    "            print( )\n",
    "            \n",
    "    def one_turn(self):\n",
    "        \n",
    "        #候補点を探す\n",
    "        for i in self.people_dic :    \n",
    "            if self.finish[i] : # still finish\n",
    "                print(\"fin\",i)\n",
    "                continue\n",
    "                \n",
    "            elif self.finish[self.people_dic[i].like[self.people_dic[i].one] ]  :#欲しいものが終わっているか\n",
    "                print(i,\"欲しいものない\")\n",
    "                while True :\n",
    "                    self.people_dic[i].add_num()\n",
    "                    if not(self.finish[self.people_dic[i].like[self.people_dic[i].one] ]) :#欲しいものがあるまで\n",
    "                        print(i,\"欲しいものあった\",self.people_dic[i].like[self.people_dic[i].one])\n",
    "                        break\n",
    "            \n",
    "            self.people_dic[i].inlike_reset()\n",
    "            print(self.people_dic[i].one)\n",
    "            print(self.people_dic[i].like[self.people_dic[i].one])\n",
    "            self.people_dic[self.people_dic[i].like[self.people_dic[i].one]].trans_inlike(i)       \n",
    "            \n",
    "        #閉路探索\n",
    "        self.closed()\n",
    "        \n",
    "        for i in self.people_dic :\n",
    "            if self.people_dic[i].result  != None :\n",
    "                self.finish[i] =True\n",
    "            \n",
    "        \n",
    "            \n",
    "        \n",
    "    def closed(self):\n",
    "        out = []\n",
    "        for i in self.people_dic :\n",
    "            p = self.people_dic[i]\n",
    "            \n",
    "            if p.result :\n",
    "                pass\n",
    "            elif len(p.inlike) == 0 : #　stopする点\n",
    "                out.append(i)\n",
    "            else :\n",
    "                flag = i\n",
    "                pas = [i]\n",
    "                flag2 = p.like[p.one]\n",
    "                print(i ,\"flag\",flag,\"flag2\",flag2)\n",
    "                while True :\n",
    "                    if flag == flag2 :\n",
    "                        pas.append(flag2) \n",
    "                        break\n",
    "                    elif flag2 in pas :\n",
    "                        break\n",
    "                    else :\n",
    "                        pas.append(flag2) \n",
    "                        flag2 = self.people_dic[flag2].like[self.people_dic[flag2].one]\n",
    "                        if flag2 in out :\n",
    "                            break\n",
    "                if pas[0] == pas[-1] :\n",
    "                    for j in range(len(pas)-1) :\n",
    "                        self.people_dic[pas[j]].decision(pas[j+1])\n",
    "        \n",
    "     \n",
    "    def alltry(self):\n",
    "        while True :\n",
    "            if all(self.finish.values()):\n",
    "                break \n",
    "            self.one_turn()\n",
    "                \n",
    "    def result(self):\n",
    "        for i in self.people_dic :\n",
    "            p = self.people_dic[i]\n",
    "            print(\"People\"+str(i)+\"->\",p.result)\n",
    "            \n",
    "class People() :\n",
    "    \n",
    "    def __init__(self, l):\n",
    "        self.like = l\n",
    "        self.inlike = []\n",
    "        self.one = 0\n",
    "        self.result = None\n",
    "        \n",
    "    def add_num(self):\n",
    "        self.one += 1 \n",
    "        \n",
    "    def trans_inlike(self,n):\n",
    "        self.inlike.append(n)\n",
    "    def decision(self,n):\n",
    "        self.result = n\n",
    "    def inlike_reset(self):\n",
    "        self.inlike = []"
   ]
  },
  {
   "cell_type": "code",
   "execution_count": 26,
   "metadata": {},
   "outputs": [],
   "source": [
    "test = TTC(people_list)"
   ]
  },
  {
   "cell_type": "code",
   "execution_count": 27,
   "metadata": {},
   "outputs": [
    {
     "name": "stdout",
     "output_type": "stream",
     "text": [
      "0\n",
      "6\n",
      "0\n",
      "5\n",
      "0\n",
      "5\n",
      "0\n",
      "3\n",
      "0\n",
      "6\n",
      "0\n",
      "6\n",
      "3 flag 3 flag2 5\n",
      "6 flag 6 flag2 6\n",
      "1 欲しいものない\n",
      "1 欲しいものあった 2\n",
      "1\n",
      "2\n",
      "0\n",
      "5\n",
      "0\n",
      "5\n",
      "0\n",
      "3\n",
      "5 欲しいものない\n",
      "5 欲しいものあった 2\n",
      "1\n",
      "2\n",
      "fin 6\n",
      "2 flag 2 flag2 5\n",
      "3 flag 3 flag2 5\n",
      "1 欲しいものない\n",
      "1 欲しいものあった 3\n",
      "2\n",
      "3\n",
      "fin 2\n",
      "3 欲しいものない\n",
      "3 欲しいものあった 1\n",
      "1\n",
      "1\n",
      "0\n",
      "3\n",
      "fin 5\n",
      "fin 6\n",
      "1 flag 1 flag2 3\n",
      "fin 1\n",
      "fin 2\n",
      "fin 3\n",
      "4 欲しいものない\n",
      "4 欲しいものあった 4\n",
      "4\n",
      "4\n",
      "fin 5\n",
      "fin 6\n",
      "4 flag 4 flag2 4\n"
     ]
    }
   ],
   "source": [
    "test.alltry()"
   ]
  },
  {
   "cell_type": "code",
   "execution_count": 28,
   "metadata": {},
   "outputs": [
    {
     "name": "stdout",
     "output_type": "stream",
     "text": [
      "People1-> 3\n",
      "People2-> 5\n",
      "People3-> 1\n",
      "People4-> 4\n",
      "People5-> 2\n",
      "People6-> 6\n"
     ]
    }
   ],
   "source": [
    "test.result()"
   ]
  },
  {
   "cell_type": "code",
   "execution_count": 5,
   "metadata": {},
   "outputs": [
    {
     "name": "stdout",
     "output_type": "stream",
     "text": [
      "0\n",
      "6\n",
      "0\n",
      "5\n",
      "0\n",
      "5\n",
      "0\n",
      "3\n",
      "0\n",
      "6\n",
      "0\n",
      "6\n",
      "3 flag 3 flag2 5\n",
      "6 flag 6 flag2 6\n"
     ]
    }
   ],
   "source": [
    "test.one_turn()"
   ]
  },
  {
   "cell_type": "code",
   "execution_count": 6,
   "metadata": {},
   "outputs": [
    {
     "data": {
      "text/plain": [
       "6"
      ]
     },
     "execution_count": 6,
     "metadata": {},
     "output_type": "execute_result"
    }
   ],
   "source": [
    "test.people_dic[1].like[test.people_dic[1].one]"
   ]
  },
  {
   "cell_type": "code",
   "execution_count": 7,
   "metadata": {},
   "outputs": [
    {
     "name": "stdout",
     "output_type": "stream",
     "text": [
      "people 1\n",
      "  out 6\n",
      "  in []\n",
      "  result None\n",
      "\n",
      "people 2\n",
      "  out 5\n",
      "  in []\n",
      "  result None\n",
      "\n",
      "people 3\n",
      "  out 5\n",
      "  in [4]\n",
      "  result None\n",
      "\n",
      "people 4\n",
      "  out 3\n",
      "  in []\n",
      "  result None\n",
      "\n",
      "people 5\n",
      "  out 6\n",
      "  in []\n",
      "  result None\n",
      "\n",
      "people 6\n",
      "  out 6\n",
      "  in [6]\n",
      "  result 6\n",
      "\n"
     ]
    }
   ],
   "source": [
    "test.info()"
   ]
  },
  {
   "cell_type": "code",
   "execution_count": 8,
   "metadata": {},
   "outputs": [],
   "source": [
    "#test.closed()"
   ]
  },
  {
   "cell_type": "code",
   "execution_count": 9,
   "metadata": {},
   "outputs": [
    {
     "name": "stdout",
     "output_type": "stream",
     "text": [
      "People1-> None\n",
      "People2-> None\n",
      "People3-> None\n",
      "People4-> None\n",
      "People5-> None\n",
      "People6-> 6\n"
     ]
    }
   ],
   "source": [
    "test.result()"
   ]
  },
  {
   "cell_type": "code",
   "execution_count": 10,
   "metadata": {},
   "outputs": [
    {
     "data": {
      "text/plain": [
       "{1: None, 2: None, 3: None, 4: None, 5: None, 6: True}"
      ]
     },
     "execution_count": 10,
     "metadata": {},
     "output_type": "execute_result"
    }
   ],
   "source": [
    "test.finish"
   ]
  },
  {
   "cell_type": "code",
   "execution_count": 11,
   "metadata": {},
   "outputs": [],
   "source": [
    "#test.closed()"
   ]
  },
  {
   "cell_type": "code",
   "execution_count": 12,
   "metadata": {},
   "outputs": [
    {
     "name": "stdout",
     "output_type": "stream",
     "text": [
      "People1-> None\n",
      "People2-> None\n",
      "People3-> None\n",
      "People4-> None\n",
      "People5-> None\n",
      "People6-> 6\n"
     ]
    }
   ],
   "source": [
    "test.result()"
   ]
  },
  {
   "cell_type": "code",
   "execution_count": 13,
   "metadata": {},
   "outputs": [
    {
     "name": "stdout",
     "output_type": "stream",
     "text": [
      "people 1\n",
      "  out 6\n",
      "  in []\n",
      "  result None\n",
      "\n",
      "people 2\n",
      "  out 5\n",
      "  in []\n",
      "  result None\n",
      "\n",
      "people 3\n",
      "  out 5\n",
      "  in [4]\n",
      "  result None\n",
      "\n",
      "people 4\n",
      "  out 3\n",
      "  in []\n",
      "  result None\n",
      "\n",
      "people 5\n",
      "  out 6\n",
      "  in []\n",
      "  result None\n",
      "\n",
      "people 6\n",
      "  out 6\n",
      "  in [6]\n",
      "  result 6\n",
      "\n"
     ]
    }
   ],
   "source": [
    "test.info()"
   ]
  },
  {
   "cell_type": "code",
   "execution_count": 14,
   "metadata": {},
   "outputs": [
    {
     "name": "stdout",
     "output_type": "stream",
     "text": [
      "1 欲しいものない\n",
      "1 欲しいものあった 2\n",
      "1\n",
      "2\n",
      "0\n",
      "5\n",
      "0\n",
      "5\n",
      "0\n",
      "3\n",
      "5 欲しいものない\n",
      "5 欲しいものあった 2\n",
      "1\n",
      "2\n",
      "fin 6\n",
      "2 flag 2 flag2 5\n",
      "3 flag 3 flag2 5\n"
     ]
    }
   ],
   "source": [
    "test.one_turn()"
   ]
  },
  {
   "cell_type": "code",
   "execution_count": 15,
   "metadata": {},
   "outputs": [
    {
     "name": "stdout",
     "output_type": "stream",
     "text": [
      "people 1\n",
      "  out 2\n",
      "  in []\n",
      "  result None\n",
      "\n",
      "people 2\n",
      "  out 5\n",
      "  in [5]\n",
      "  result 5\n",
      "\n",
      "people 3\n",
      "  out 5\n",
      "  in [4]\n",
      "  result None\n",
      "\n",
      "people 4\n",
      "  out 3\n",
      "  in []\n",
      "  result None\n",
      "\n",
      "people 5\n",
      "  out 2\n",
      "  in []\n",
      "  result 2\n",
      "\n",
      "people 6\n",
      "  out 6\n",
      "  in [6]\n",
      "  result 6\n",
      "\n"
     ]
    }
   ],
   "source": [
    "test.info()"
   ]
  },
  {
   "cell_type": "code",
   "execution_count": 16,
   "metadata": {},
   "outputs": [
    {
     "name": "stdout",
     "output_type": "stream",
     "text": [
      "People1-> None\n",
      "People2-> 5\n",
      "People3-> None\n",
      "People4-> None\n",
      "People5-> 2\n",
      "People6-> 6\n"
     ]
    }
   ],
   "source": [
    "test.result()"
   ]
  },
  {
   "cell_type": "code",
   "execution_count": 23,
   "metadata": {},
   "outputs": [
    {
     "name": "stdout",
     "output_type": "stream",
     "text": [
      "fin 1\n",
      "fin 2\n",
      "fin 3\n",
      "4 欲しいものない\n",
      "4 欲しいものあった 4\n",
      "4\n",
      "4\n",
      "fin 5\n",
      "fin 6\n",
      "4 flag 4 flag2 4\n"
     ]
    }
   ],
   "source": [
    "test.one_turn()"
   ]
  },
  {
   "cell_type": "code",
   "execution_count": 24,
   "metadata": {},
   "outputs": [
    {
     "name": "stdout",
     "output_type": "stream",
     "text": [
      "People1-> 3\n",
      "People2-> 5\n",
      "People3-> 1\n",
      "People4-> 4\n",
      "People5-> 2\n",
      "People6-> 6\n"
     ]
    }
   ],
   "source": [
    "test.result()"
   ]
  },
  {
   "cell_type": "code",
   "execution_count": 17,
   "metadata": {},
   "outputs": [
    {
     "data": {
      "text/plain": [
       "2"
      ]
     },
     "execution_count": 17,
     "metadata": {},
     "output_type": "execute_result"
    }
   ],
   "source": [
    "test.people_dic[1].like[test.people_dic[1].one]"
   ]
  },
  {
   "cell_type": "code",
   "execution_count": 18,
   "metadata": {},
   "outputs": [
    {
     "data": {
      "text/plain": [
       "2"
      ]
     },
     "execution_count": 18,
     "metadata": {},
     "output_type": "execute_result"
    }
   ],
   "source": [
    "test.people_dic[1].like[test.people_dic[1].one]"
   ]
  },
  {
   "cell_type": "code",
   "execution_count": 19,
   "metadata": {},
   "outputs": [
    {
     "data": {
      "text/plain": [
       "{1: None, 2: True, 3: None, 4: None, 5: True, 6: True}"
      ]
     },
     "execution_count": 19,
     "metadata": {},
     "output_type": "execute_result"
    }
   ],
   "source": [
    "test.finish"
   ]
  },
  {
   "cell_type": "code",
   "execution_count": 20,
   "metadata": {},
   "outputs": [
    {
     "data": {
      "text/plain": [
       "2"
      ]
     },
     "execution_count": 20,
     "metadata": {},
     "output_type": "execute_result"
    }
   ],
   "source": [
    "test.people_dic[1].like[test.people_dic[1].one]"
   ]
  },
  {
   "cell_type": "code",
   "execution_count": 21,
   "metadata": {},
   "outputs": [
    {
     "name": "stdout",
     "output_type": "stream",
     "text": [
      "1 欲しいものない\n",
      "1 欲しいものあった 3\n",
      "2\n",
      "3\n",
      "fin 2\n",
      "3 欲しいものない\n",
      "3 欲しいものあった 1\n",
      "1\n",
      "1\n",
      "0\n",
      "3\n",
      "fin 5\n",
      "fin 6\n",
      "1 flag 1 flag2 3\n"
     ]
    }
   ],
   "source": [
    "test.one_turn()"
   ]
  },
  {
   "cell_type": "code",
   "execution_count": 22,
   "metadata": {},
   "outputs": [
    {
     "ename": "TypeError",
     "evalue": "'dict' object is not callable",
     "output_type": "error",
     "traceback": [
      "\u001b[0;31m---------------------------------------------------------------------------\u001b[0m",
      "\u001b[0;31mTypeError\u001b[0m                                 Traceback (most recent call last)",
      "\u001b[0;32m<ipython-input-22-4b3bff7688f0>\u001b[0m in \u001b[0;36m<module>\u001b[0;34m()\u001b[0m\n\u001b[0;32m----> 1\u001b[0;31m \u001b[0mtest\u001b[0m\u001b[0;34m.\u001b[0m\u001b[0mfinish\u001b[0m\u001b[0;34m(\u001b[0m\u001b[0;34m)\u001b[0m\u001b[0;34m\u001b[0m\u001b[0m\n\u001b[0m",
      "\u001b[0;31mTypeError\u001b[0m: 'dict' object is not callable"
     ]
    }
   ],
   "source": []
  },
  {
   "cell_type": "code",
   "execution_count": null,
   "metadata": {},
   "outputs": [],
   "source": []
  },
  {
   "cell_type": "code",
   "execution_count": null,
   "metadata": {},
   "outputs": [],
   "source": []
  }
 ],
 "metadata": {
  "kernelspec": {
   "display_name": "Python 3",
   "language": "python",
   "name": "python3"
  },
  "language_info": {
   "codemirror_mode": {
    "name": "ipython",
    "version": 3
   },
   "file_extension": ".py",
   "mimetype": "text/x-python",
   "name": "python",
   "nbconvert_exporter": "python",
   "pygments_lexer": "ipython3",
   "version": "3.5.3"
  }
 },
 "nbformat": 4,
 "nbformat_minor": 1
}
